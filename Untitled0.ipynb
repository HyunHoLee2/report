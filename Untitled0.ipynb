{
  "nbformat": 4,
  "nbformat_minor": 0,
  "metadata": {
    "colab": {
      "name": "Untitled0.ipynb",
      "provenance": [],
      "authorship_tag": "ABX9TyOrQvngvqqIARr/p21fvvFm",
      "include_colab_link": true
    },
    "kernelspec": {
      "name": "python3",
      "display_name": "Python 3"
    }
  },
  "cells": [
    {
      "cell_type": "markdown",
      "metadata": {
        "id": "view-in-github",
        "colab_type": "text"
      },
      "source": [
        "<a href=\"https://colab.research.google.com/github/HyunHoLee2/report/blob/master/Untitled0.ipynb\" target=\"_parent\"><img src=\"https://colab.research.google.com/assets/colab-badge.svg\" alt=\"Open In Colab\"/></a>"
      ]
    },
    {
      "cell_type": "markdown",
      "metadata": {
        "id": "S7uiNKQnhhTv",
        "colab_type": "text"
      },
      "source": [
        ""
      ]
    },
    {
      "cell_type": "markdown",
      "metadata": {
        "id": "eoyluTDSkWUR",
        "colab_type": "text"
      },
      "source": [
        "# 슈피겐 인공지능 음성 번역기\n",
        "[포켓토크](http://www.spigen.co.kr/m/product.html?branduid=1997850)\n",
        "\n",
        "# 자동차 AI음성비서\n",
        "[스마트 음성인식 비서 서비스 5가지](https://blog.hyundai-mnsoft.com/1606)\n",
        "\n",
        "\n",
        "# 이미지 인식\n",
        "\n",
        "[삼성 빅스비 카메라](https://www.samsung.com/sec/apps/bixby/vision/)\n",
        "\n",
        "빅스비 비전 카메라를 이용하여 사진을 찍으면 인식되는 제품하에 이미지 검색 또는 쇼핑 검색 기능을 제공한다.\n",
        "\n",
        "#인공지능 자율자동차\n",
        "\n",
        "[테슬라 자동차](https://www.tesla.com/ko_KR/autopilot)\n",
        "\n",
        "현재 자율 자동차 에 많은 회사들이 투자를 하고 있는데\n",
        "그중에서 가장 선두에 달리고 있는 회사가 테슬라 라고\n",
        "생각이나서 가져오게 되었습니다."
      ]
    }
  ]
}